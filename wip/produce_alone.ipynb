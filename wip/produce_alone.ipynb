{
 "cells": [
  {
   "cell_type": "code",
   "execution_count": 1,
   "metadata": {},
   "outputs": [
    {
     "name": "stdout",
     "output_type": "stream",
     "text": [
      "Mean Squared Error (MSE): 0.003894499314081935\n",
      "Root Mean Squared Error (RMSE): 0.06240592370986856\n",
      "R-squared (R²): 0.9956722315135723\n",
      "            product  transformed_reconstructed_energy  predicted_price_proxy\n",
      "0              Chia                          0.694293               0.541046\n",
      "1         Spearmint                          0.605544               0.640491\n",
      "2  Artichoke Hearts                         -1.491192              -1.440884\n",
      "3               Fig                         -0.229172              -0.305448\n",
      "4            Almond                          0.432530               0.275610\n"
     ]
    }
   ],
   "source": [
    "import pandas as pd\n",
    "from sklearn.linear_model import LinearRegression\n",
    "from sklearn.model_selection import train_test_split\n",
    "from sklearn.metrics import mean_squared_error, r2_score\n",
    "import numpy as np\n",
    "\n",
    "# Load the dataset (adjust the file path if needed)\n",
    "fruits_vegetables_df = pd.read_csv('data/filtered_fruits_vegetables.csv')\n",
    "\n",
    "# Define the features (nutritional content) and the target (transformed_reconstructed_energy)\n",
    "features = ['energy_100g', 'fat_100g', 'carbohydrates_100g', 'sugars_100g', 'proteins_100g', 'salt_100g']\n",
    "X = fruits_vegetables_df[features]\n",
    "y = fruits_vegetables_df['transformed_reconstructed_energy']\n",
    "\n",
    "# Split the data into training and testing sets (80% training, 20% testing)\n",
    "X_train, X_test, y_train, y_test = train_test_split(X, y, test_size=0.2, random_state=42)\n",
    "\n",
    "# Initialize and train the Linear Regression model\n",
    "model = LinearRegression()\n",
    "model.fit(X_train, y_train)\n",
    "\n",
    "# Predict the price proxy (transformed_reconstructed_energy) for the test set\n",
    "y_test_pred = model.predict(X_test)\n",
    "\n",
    "# Evaluate the model using Mean Squared Error (MSE), Root Mean Squared Error (RMSE), and R²\n",
    "mse = mean_squared_error(y_test, y_test_pred)\n",
    "rmse = np.sqrt(mse)\n",
    "r2 = r2_score(y_test, y_test_pred)\n",
    "\n",
    "# Print out the performance metrics\n",
    "print(f\"Mean Squared Error (MSE): {mse}\")\n",
    "print(f\"Root Mean Squared Error (RMSE): {rmse}\")\n",
    "print(f\"R-squared (R²): {r2}\")\n",
    "\n",
    "# Add the predictions back to the original dataset\n",
    "fruits_vegetables_df['predicted_price_proxy'] = model.predict(X)\n",
    "\n",
    "# Display the first few rows with predictions\n",
    "print(fruits_vegetables_df[['product', 'transformed_reconstructed_energy', 'predicted_price_proxy']].head())"
   ]
  },
  {
   "cell_type": "code",
   "execution_count": 2,
   "metadata": {},
   "outputs": [
    {
     "name": "stdout",
     "output_type": "stream",
     "text": [
      "Mean Squared Error (MSE): 0.006394478541278931\n",
      "Root Mean Squared Error (RMSE): 0.07996548343678622\n",
      "R-squared (R²): 0.9929496427295043\n",
      "     product  transformed_reconstructed_energy  predicted_price_proxy\n",
      "0  Artichoke                         -1.033042              -1.098399\n",
      "1  Asparagus                         -1.207215              -1.214924\n",
      "2      Beets                         -1.254806              -1.237975\n",
      "3   Broccoli                         -1.373130              -1.312663\n",
      "4    Carrots                         -1.309162              -1.275185\n"
     ]
    }
   ],
   "source": [
    "\n",
    "# Load the dataset (adjust the file path if needed)\n",
    "fruits_vegetables_df = pd.read_csv('part 1 ETL Workflow/working.csv')\n",
    "\n",
    "# Define the features (nutritional content) and the target (transformed_reconstructed_energy)\n",
    "features = ['energy_100g', 'fat_100g', 'carbohydrates_100g', 'sugars_100g', 'proteins_100g', 'salt_100g']\n",
    "X = fruits_vegetables_df[features]\n",
    "y = fruits_vegetables_df['transformed_reconstructed_energy']\n",
    "\n",
    "# Split the data into training and testing sets (80% training, 20% testing)\n",
    "X_train, X_test, y_train, y_test = train_test_split(X, y, test_size=0.2, random_state=42)\n",
    "\n",
    "# Initialize and train the Linear Regression model\n",
    "model = LinearRegression()\n",
    "model.fit(X_train, y_train)\n",
    "\n",
    "# Predict the price proxy (transformed_reconstructed_energy) for the test set\n",
    "y_test_pred = model.predict(X_test)\n",
    "\n",
    "# Evaluate the model using Mean Squared Error (MSE), Root Mean Squared Error (RMSE), and R²\n",
    "mse = mean_squared_error(y_test, y_test_pred)\n",
    "rmse = np.sqrt(mse)\n",
    "r2 = r2_score(y_test, y_test_pred)\n",
    "\n",
    "# Print out the performance metrics\n",
    "print(f\"Mean Squared Error (MSE): {mse}\")\n",
    "print(f\"Root Mean Squared Error (RMSE): {rmse}\")\n",
    "print(f\"R-squared (R²): {r2}\")\n",
    "\n",
    "# Add the predictions back to the original dataset\n",
    "fruits_vegetables_df['predicted_price_proxy'] = model.predict(X)\n",
    "\n",
    "# Display the first few rows with predictions\n",
    "print(fruits_vegetables_df[['product', 'transformed_reconstructed_energy', 'predicted_price_proxy']].head())"
   ]
  }
 ],
 "metadata": {
  "kernelspec": {
   "display_name": "base",
   "language": "python",
   "name": "python3"
  },
  "language_info": {
   "codemirror_mode": {
    "name": "ipython",
    "version": 3
   },
   "file_extension": ".py",
   "mimetype": "text/x-python",
   "name": "python",
   "nbconvert_exporter": "python",
   "pygments_lexer": "ipython3",
   "version": "3.11.7"
  }
 },
 "nbformat": 4,
 "nbformat_minor": 2
}
