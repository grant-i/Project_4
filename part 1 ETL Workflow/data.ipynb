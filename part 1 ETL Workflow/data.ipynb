{
 "cells": [
  {
   "cell_type": "markdown",
   "metadata": {},
   "source": [
    "# Extract Data Frmes"
   ]
  },
  {
   "cell_type": "code",
   "execution_count": 1,
   "metadata": {},
   "outputs": [],
   "source": [
    "import pandas as pd\n",
    "\n",
    "# Load datasets\n",
    "veg_df = pd.read_csv('raw_files/Vegetable-Prices-2022.csv')\n",
    "fru_df = pd.read_csv('raw_files/Fruit-Prices-2022.csv')\n",
    "more_df = pd.read_csv('raw_files/pp_national_average_prices_csv.csv', encoding='ISO-8859-1')\n",
    "off_df = pd.read_csv('raw_files/hidden_treasures_groceries_gmm.csv')"
   ]
  },
  {
   "cell_type": "markdown",
   "metadata": {},
   "source": [
    "## Check Naming Convention and Standardize the values"
   ]
  },
  {
   "cell_type": "code",
   "execution_count": 2,
   "metadata": {},
   "outputs": [
    {
     "name": "stdout",
     "output_type": "stream",
     "text": [
      "Index(['Vegetable', 'Form', 'RetailPrice', 'RetailPriceUnit', 'Yield',\n",
      "       'CupEquivalentSize', 'CupEquivalentUnit', 'CupEquivalentPrice'],\n",
      "      dtype='object')\n",
      "Index(['Fruit', 'Form', 'RetailPrice', 'RetailPriceUnit', 'Yield',\n",
      "       'CupEquivalentSize', 'CupEquivalentUnit', 'CupEquivalentPrice'],\n",
      "      dtype='object')\n",
      "Index(['year', 'food_code', 'mod_code', 'food_description', 'method',\n",
      "       'method_description', 'nhanes', 'price_100gm'],\n",
      "      dtype='object')\n",
      "Index(['Unnamed: 0', 'energy_100g', 'fat_100g', 'carbohydrates_100g',\n",
      "       'sugars_100g', 'proteins_100g', 'salt_100g', 'g_sum', 'other_carbs',\n",
      "       'reconstructed_energy', 'boxcox_carbohydrates_100g',\n",
      "       'transformed_carbohydrates_100g', 'boxcox_fat_100g',\n",
      "       'transformed_fat_100g', 'boxcox_proteins_100g',\n",
      "       'transformed_proteins_100g', 'boxcox_sugars_100g',\n",
      "       'transformed_sugars_100g', 'boxcox_other_carbs',\n",
      "       'transformed_other_carbs', 'boxcox_salt_100g', 'transformed_salt_100g',\n",
      "       'boxcox_energy_100g', 'transformed_energy_100g',\n",
      "       'boxcox_reconstructed_energy', 'transformed_reconstructed_energy',\n",
      "       'boxcox_g_sum', 'transformed_g_sum', 'cluster', 'product', 'category',\n",
      "       'certainty', 'alternative_cluster', 'alternative_category', 'anomaly'],\n",
      "      dtype='object')\n"
     ]
    }
   ],
   "source": [
    "# Check column names in each dataset\n",
    "print(veg_df.columns)\n",
    "print(fru_df.columns)\n",
    "print(more_df.columns)\n",
    "print(off_df.columns)"
   ]
  },
  {
   "cell_type": "code",
   "execution_count": 3,
   "metadata": {},
   "outputs": [],
   "source": [
    "#Rename columns\n",
    "veg_df.rename(columns={'Vegetable': 'product'}, inplace=True)\n",
    "fru_df.rename(columns={'Fruit': 'product'}, inplace=True)\n",
    "more_df.rename(columns={'food_description': 'product'}, inplace=True)\n",
    "\n",
    "#keep only relevant columns\n",
    "veg_df = veg_df[['product', 'RetailPrice']]\n",
    "fru_df = fru_df[['product', 'RetailPrice']]\n",
    "more_df = more_df[['product', 'price_100gm']]\n"
   ]
  },
  {
   "cell_type": "code",
   "execution_count": 4,
   "metadata": {},
   "outputs": [],
   "source": [
    "#more_df is from 2012 and in different units.  doubling the price for inflation and converting from 100g to price per lb\n",
    "\n",
    "inflation_factor = 2\n",
    "grams_per_pound = 453.592\n",
    "price_per_100g_to_lb = grams_per_pound / 100\n",
    "\n",
    "# Adjusting for inflation and converting units\n",
    "# Use .loc to avoid the SettingWithCopyWarning\n",
    "more_df.loc[:, 'RetailPrice'] = more_df['price_100gm'] * inflation_factor * price_per_100g_to_lb\n",
    "more_df = more_df.drop(columns=['price_100gm'])"
   ]
  },
  {
   "cell_type": "markdown",
   "metadata": {},
   "source": [
    "## Inner Merge on Food Product"
   ]
  },
  {
   "cell_type": "code",
   "execution_count": 5,
   "metadata": {},
   "outputs": [],
   "source": [
    "#Merge the vegetables on 'product' and fruits on 'product' using an inner join\n",
    "vegnut_df = pd.merge(veg_df, off_df, on='product', how='inner')\n",
    "fruitnut_df = pd.merge(fru_df, off_df, on='product', how='inner')\n",
    "morenut_df = pd.merge(more_df, off_df, on='product', how='inner')"
   ]
  },
  {
   "cell_type": "code",
   "execution_count": 6,
   "metadata": {},
   "outputs": [],
   "source": [
    "#drop duplicates\n",
    "vegnut_df.drop_duplicates(subset='product', inplace=True)\n",
    "fruitnut_df.drop_duplicates(subset='product', inplace=True)\n",
    "morenut_df.drop_duplicates(subset='product', inplace=True)"
   ]
  },
  {
   "cell_type": "code",
   "execution_count": 7,
   "metadata": {},
   "outputs": [],
   "source": [
    "vegnut_df.to_csv('merged_files/veg.csv', index=False)\n",
    "fruitnut_df.to_csv('merged_files/fruit.csv', index=False)\n",
    "morenut_df.to_csv('merged_files/more.csv', index=False)"
   ]
  },
  {
   "cell_type": "markdown",
   "metadata": {},
   "source": [
    "# Stack Data Frames"
   ]
  },
  {
   "cell_type": "code",
   "execution_count": 8,
   "metadata": {},
   "outputs": [],
   "source": [
    "working_df = pd.concat([vegnut_df, fruitnut_df, morenut_df], ignore_index=True)\n"
   ]
  },
  {
   "cell_type": "code",
   "execution_count": 9,
   "metadata": {},
   "outputs": [],
   "source": [
    "\n",
    "\n",
    "# Dropping unnecessary columns such as 'Unnamed: 0'\n",
    "df_cleaned = working_df.drop(columns=['Unnamed: 0'])\n",
    "\n",
    "# Step 2: Check for missing values\n",
    "missing_values = df_cleaned.isnull().sum()\n",
    "\n",
    "# Step 3: Drop rows with missing target values (if any)\n",
    "df_cleaned = df_cleaned.dropna(subset=['RetailPrice'])\n",
    "\n",
    "\n",
    "#df_cleaned.to_csv('working.csv', index=False)"
   ]
  }
 ],
 "metadata": {
  "kernelspec": {
   "display_name": "base",
   "language": "python",
   "name": "python3"
  },
  "language_info": {
   "codemirror_mode": {
    "name": "ipython",
    "version": 3
   },
   "file_extension": ".py",
   "mimetype": "text/x-python",
   "name": "python",
   "nbconvert_exporter": "python",
   "pygments_lexer": "ipython3",
   "version": "3.11.7"
  }
 },
 "nbformat": 4,
 "nbformat_minor": 2
}
